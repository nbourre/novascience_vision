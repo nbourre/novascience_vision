{
 "cells": [
  {
   "cell_type": "markdown",
   "id": "5ba06e1e",
   "metadata": {},
   "source": [
    "# Imports"
   ]
  },
  {
   "cell_type": "code",
   "execution_count": 14,
   "id": "f14ea10c",
   "metadata": {},
   "outputs": [],
   "source": [
    "import tensorflow as tf\n",
    "import tensorflow_hub as hub\n",
    "import cv2\n",
    "from matplotlib import pyplot as plt\n",
    "import numpy as np\n",
    "import os\n",
    "from IPython.core.display import clear_output"
   ]
  },
  {
   "cell_type": "markdown",
   "id": "b9f62692",
   "metadata": {},
   "source": [
    "# GPU Specifics"
   ]
  },
  {
   "cell_type": "code",
   "execution_count": 3,
   "id": "631ece61",
   "metadata": {},
   "outputs": [],
   "source": [
    "# Optional if using a GPU\n",
    "# Prevent the code to consume all the VRAM\n",
    "gpus = tf.config.experimental.list_physical_devices('GPU')\n",
    "for gpu in gpus:\n",
    "  tf.config.experimental.set_memory_growth(gpu, True)"
   ]
  },
  {
   "cell_type": "markdown",
   "id": "c472abea",
   "metadata": {},
   "source": [
    "# Loading model"
   ]
  },
  {
   "cell_type": "code",
   "execution_count": 4,
   "id": "f12f6afd",
   "metadata": {},
   "outputs": [],
   "source": [
    "model = hub.load('https://tfhub.dev/google/movenet/multipose/lightning/1')\n",
    "movenet = model.signatures['serving_default']"
   ]
  },
  {
   "cell_type": "markdown",
   "id": "b1c56b2b",
   "metadata": {},
   "source": [
    "# Helpers"
   ]
  },
  {
   "cell_type": "code",
   "execution_count": 5,
   "id": "dbbdb333",
   "metadata": {},
   "outputs": [],
   "source": [
    "def draw_keypoints(frame, keypoints, confidence_threshold):\n",
    "    y, x, c = frame.shape\n",
    "    shaped = np.squeeze(np.multiply(keypoints, [y,x,1]))\n",
    "    \n",
    "    for kp in shaped:\n",
    "        ky, kx, kp_conf = kp\n",
    "        if kp_conf > confidence_threshold:\n",
    "            cv2.circle(frame, (int(kx), int(ky)), 4, (0,255,0), -1)\n",
    "            \n",
    "\n",
    "EDGES = {\n",
    "    (0, 1): 'm',\n",
    "    (0, 2): 'c',\n",
    "    (1, 3): 'm',\n",
    "    (2, 4): 'c',\n",
    "    (0, 5): 'm',\n",
    "    (0, 6): 'c',\n",
    "    (5, 7): 'm',\n",
    "    (7, 9): 'm',\n",
    "    (6, 8): 'c',\n",
    "    (8, 10): 'c',\n",
    "    (5, 6): 'y',\n",
    "    (5, 11): 'm',\n",
    "    (6, 12): 'c',\n",
    "    (11, 12): 'y',\n",
    "    (11, 13): 'm',\n",
    "    (13, 15): 'm',\n",
    "    (12, 14): 'c',\n",
    "    (14, 16): 'c'\n",
    "}\n",
    "\n",
    "def draw_connections(frame, keypoints, edges, confidence_threshold):\n",
    "    y, x, c = frame.shape\n",
    "    shaped = np.squeeze(np.multiply(keypoints, [y,x,1]))\n",
    "    \n",
    "    for edge, color in edges.items():\n",
    "        p1, p2 = edge\n",
    "        y1, x1, c1 = shaped[p1]\n",
    "        y2, x2, c2 = shaped[p2]\n",
    "        \n",
    "        if (c1 > confidence_threshold) & (c2 > confidence_threshold):      \n",
    "            cv2.line(frame, (int(x1), int(y1)), (int(x2), int(y2)), (0,0,255), 2)\n",
    "\n",
    "# Function to loop through each person detected and render\n",
    "def loop_through_people(frame, keypoints_with_scores, edges, confidence_threshold):\n",
    "    for person in keypoints_with_scores:\n",
    "        draw_connections(frame, person, edges, confidence_threshold)\n",
    "        draw_keypoints(frame, person, confidence_threshold)\n",
    "\n",
    "# Function that returns the closest width and height ratio divisble by 32, but greater than base_width\n",
    "def get_closest_ratio_divisble_by_32(frame, base_width = 256):\n",
    "    y, x, c = frame.shape\n",
    "    ratio_base_width = base_width / x\n",
    "    height = round(y * ratio_base_width / 32) * 32\n",
    "    width = base_width\n",
    "    \n",
    "    return height, width\n"
   ]
  },
  {
   "cell_type": "markdown",
   "id": "79a4a48c",
   "metadata": {},
   "source": [
    "# Setting up working environment"
   ]
  },
  {
   "cell_type": "code",
   "execution_count": 8,
   "id": "fdb4f73e",
   "metadata": {},
   "outputs": [],
   "source": [
    "os.chdir('I:/My Drive/_cegep/NovaScience/projet_vision/videos/classees/videoPersonneTombant')\n",
    "\n",
    "test_file = '2.mp4'\n",
    "\n",
    "file_list = os.listdir()"
   ]
  },
  {
   "cell_type": "code",
   "execution_count": null,
   "id": "2628affc",
   "metadata": {
    "scrolled": false
   },
   "outputs": [],
   "source": [
    "file_list"
   ]
  },
  {
   "cell_type": "markdown",
   "id": "1413ace7",
   "metadata": {},
   "source": [
    "# Loop"
   ]
  },
  {
   "cell_type": "code",
   "execution_count": 13,
   "id": "f8bc0c58",
   "metadata": {},
   "outputs": [
    {
     "name": "stdout",
     "output_type": "stream",
     "text": [
      "Playing video : 9.mp4\n",
      "Playing video : 64.mp4\n",
      "Playing video : 13.mp4\n",
      "Playing video : 6.mp4\n",
      "Playing video : 50.mp4\n",
      "Playing video : 62.mp4\n",
      "Playing video : 5.mp4\n",
      "Playing video : 69.mp4\n",
      "Playing video : 68.mp4\n",
      "Playing video : 12.mp4\n",
      "Playing video : 66.mp4\n",
      "Playing video : 67.mp4\n",
      "Playing video : 16.mp4\n",
      "Playing video : 44.mp4\n",
      "Playing video : 11.mp4\n",
      "Playing video : 40.mp4\n",
      "Playing video : 38.mp4\n",
      "Playing video : 26.mp4\n",
      "Playing video : 10.mp4\n",
      "Playing video : 22.mp4\n",
      "Playing video : 37.mp4\n",
      "Playing video : 23.mp4\n",
      "Playing video : 1.mp4\n",
      "Playing video : 48.mp4\n",
      "Playing video : 4.mp4\n",
      "Playing video : 21.mp4\n",
      "Playing video : 20.mp4\n",
      "Playing video : 2.mp4\n",
      "Playing video : 19.mp4\n",
      "Playing video : 18.mp4\n",
      "Playing video : 17.mp4\n",
      "Playing video : 15.mp4\n",
      "Playing video : 14.mp4\n",
      "Playing video : 29.mp4\n",
      "Playing video : 28.mp4\n",
      "Playing video : 27.mp4\n",
      "Playing video : 25.mp4\n",
      "Playing video : 24.mp4\n",
      "Playing video : 35.mp4\n",
      "Playing video : 34.mp4\n",
      "Playing video : 33.mp4\n",
      "Playing video : 32.mp4\n",
      "Playing video : 31.mp4\n",
      "Playing video : 30.mp4\n",
      "Playing video : 3.mp4\n",
      "Playing video : 45.mp4\n",
      "Playing video : 43.mp4\n",
      "Playing video : 41.mp4\n",
      "Playing video : 42.mp4\n",
      "Playing video : 39.mp4\n",
      "Playing video : 36.mp4\n",
      "Playing video : 58.mp4\n",
      "Playing video : 57.mp4\n",
      "Playing video : 56.mp4\n",
      "Playing video : 55.mp4\n",
      "Playing video : 54.mp4\n",
      "Playing video : 53.mp4\n",
      "Playing video : 52.mp4\n"
     ]
    }
   ],
   "source": [
    "quit = False\n",
    "\n",
    "for video in file_list:\n",
    "    \n",
    "    print (f\"Playing video : {video}\")\n",
    "    cap = cv2.VideoCapture(video)\n",
    "\n",
    "    resize_y, resize_x = get_closest_ratio_divisble_by_32(cap.read()[1])\n",
    "\n",
    "    confidence_threshold = 0.3\n",
    "\n",
    "    while True:\n",
    "        ret, frame = cap.read()\n",
    "\n",
    "        if not ret:\n",
    "            break\n",
    "\n",
    "        # resize image\n",
    "        img = frame.copy()\n",
    "        img = tf.image.resize_with_pad(tf.expand_dims(img, axis=0), resize_y, resize_x)\n",
    "        input_img = tf.cast(img, dtype=tf.int32)\n",
    "\n",
    "        # Detection section\n",
    "        results = movenet(input_img)\n",
    "        keypoints_with_scores = results['output_0'].numpy()[:, :, :51].reshape((6,17,3))\n",
    "\n",
    "        loop_through_people(frame, keypoints_with_scores, EDGES, 0.3)\n",
    "\n",
    "        cv2.imshow('output', frame)\n",
    "\n",
    "        if cv2.waitKey(1) & 0xFF == ord('q'):\n",
    "            quit = True\n",
    "            break\n",
    "    \n",
    "    cap.release()\n",
    "    \n",
    "    if quit: break\n",
    "\n",
    "    \n",
    "    \n",
    "cv2.destroyAllWindows()"
   ]
  },
  {
   "cell_type": "code",
   "execution_count": null,
   "id": "ef39e999",
   "metadata": {},
   "outputs": [],
   "source": []
  }
 ],
 "metadata": {
  "kernelspec": {
   "display_name": "opencv_tensorflow",
   "language": "python",
   "name": "opencv_tensorflow"
  },
  "language_info": {
   "codemirror_mode": {
    "name": "ipython",
    "version": 3
   },
   "file_extension": ".py",
   "mimetype": "text/x-python",
   "name": "python",
   "nbconvert_exporter": "python",
   "pygments_lexer": "ipython3",
   "version": "3.8.11"
  }
 },
 "nbformat": 4,
 "nbformat_minor": 5
}
